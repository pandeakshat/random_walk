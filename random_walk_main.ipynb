{
 "cells": [
  {
   "cell_type": "code",
   "execution_count": 3,
   "id": "ef33ed79-1645-43e0-9ef4-02617246dc62",
   "metadata": {},
   "outputs": [
    {
     "data": {
      "image/png": "[encoded data removed]",
      "text/plain": [
       "<Figure size 432x288 with 1 Axes>"
      ]
     },
     "metadata": {
      "needs_background": "light"
     },
     "output_type": "display_data"
    },
    {
     "name": "stdout",
     "output_type": "stream",
     "text": [
      "Pass 60 steps 819 times\n",
      "Probability of winning bet is 81.89999999999999%\n"
     ]
    },
    {
     "data": {
      "image/png": "[encoded data removed]",
      "text/plain": [
       "<Figure size 432x288 with 1 Axes>"
      ]
     },
     "metadata": {
      "needs_background": "light"
     },
     "output_type": "display_data"
    },
    {
     "name": "stdout",
     "output_type": "stream",
     "text": [
      "Passed 60 steps in less than 60 rolls 130 times\n",
      "Probability of winning difficult bet is 13.0%\n"
     ]
    }
   ],
   "source": [
    "import numpy as np\n",
    "import matplotlib.pyplot as plt\n",
    "\n",
    "np.random.seed(343)\n",
    "random_walk=[]\n",
    "step=0\n",
    "random_walk.append(step)\n",
    "all_walk=[]\n",
    "steps_taken=[]\n",
    "\n",
    "for j in range(1000):\n",
    "    step=0\n",
    "    \n",
    "    for i in range(100):\n",
    "        \n",
    "        dice=np.random.randint(1,7)\n",
    "\n",
    "        if dice==1 or dice==2:\n",
    "            step=max(0,step-1)\n",
    "\n",
    "        elif dice==3 or dice==4 or dice==5:\n",
    "            step=step+1\n",
    "\n",
    "        else:\n",
    "            bingo_move=np.random.randint(1,7)\n",
    "            step=step+bingo_move\n",
    "        \n",
    "        chance=np.random.rand()\n",
    "        if chance<=0.001:\n",
    "            step=0\n",
    "\n",
    "        random_walk.append(step)\n",
    "        \n",
    "        if step==60:\n",
    "            steps_taken.append(i)\n",
    "        \n",
    "    \n",
    "    all_walk.append(random_walk[-1])\n",
    "    \n",
    "    \n",
    "\n",
    "plt.hist(all_walk)\n",
    "plt.xlabel(\"Steps Reached\")\n",
    "plt.ylabel(\"No. of times(1000)\")\n",
    "plt.show()\n",
    "success=0\n",
    "for k in all_walk:\n",
    "    if all_walk[k]>=60:\n",
    "        success=success+1\n",
    "        \n",
    "print(\"Pass 60 steps \" + str(success) + \" times\")    \n",
    "prob_of_bet= (success/1000)*100\n",
    "\n",
    "print(\"Probability of winning bet is \" + str(prob_of_bet) + \"%\")\n",
    "\n",
    "\n",
    "\n",
    "\n",
    "\n",
    "\n",
    "d_bet=0\n",
    "steps_taken2=[]\n",
    "for x in steps_taken:\n",
    "    \n",
    "    if steps_taken[x]<60:\n",
    "        d_bet=d_bet+1\n",
    "        steps_taken2.append(steps_taken[x])\n",
    "\n",
    "s_d_bet=(d_bet/1000)*100\n",
    "\n",
    "plt.hist(steps_taken2, 25,)\n",
    "plt.xlabel(\"Dice rolls to reach 60 Steps\")\n",
    "plt.ylabel(\"No. of times(1000)\")\n",
    "plt.show()\n",
    "#extras\n",
    "print(\"Passed 60 steps in less than 60 rolls \" + str(d_bet) + \" times\")    \n",
    "print(\"Probability of winning difficult bet is \" + str(s_d_bet) + \"%\")\n"
   ]
  },
  {
   "cell_type": "code",
   "execution_count": null,
   "id": "1b57123b-f322-471b-bd1b-e122be4af3a0",
   "metadata": {},
   "outputs": [],
   "source": []
  },
  {
   "cell_type": "code",
   "execution_count": null,
   "id": "18862e7a-0035-43ff-aa91-cf806eda28cc",
   "metadata": {},
   "outputs": [],
   "source": []
  },
  {
   "cell_type": "code",
   "execution_count": null,
   "id": "902a998d-ebf3-4169-8845-11078dc75183",
   "metadata": {},
   "outputs": [],
   "source": []
  }
 ],
 "metadata": {
  "kernelspec": {
   "display_name": "Python 3 (ipykernel)",
   "language": "python",
   "name": "python3"
  },
  "language_info": {
   "codemirror_mode": {
    "name": "ipython",
    "version": 3
   },
   "file_extension": ".py",
   "mimetype": "text/x-python",
   "name": "python",
   "nbconvert_exporter": "python",
   "pygments_lexer": "ipython3",
   "version": "3.7.11"
  }
 },
 "nbformat": 4,
 "nbformat_minor": 5
}
